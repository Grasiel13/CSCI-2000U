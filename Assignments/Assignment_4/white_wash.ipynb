{
 "cells": [
  {
   "cell_type": "code",
   "execution_count": 6,
   "metadata": {
    "collapsed": false
   },
   "outputs": [
    {
     "name": "stdout",
     "output_type": "stream",
     "text": [
      "[[ 1.    0.55  0.95]\n",
      " [ 0.85  0.65  1.  ]\n",
      " [ 0.9   0.7   0.8 ]]\n"
     ]
    }
   ],
   "source": [
    "import numpy as np\n",
    "#Sergio Majluf \n",
    "#100558230 \n",
    "\n",
    "\n",
    "#WhiteWash  will take a mx3 matrix of values between 0 and 1, with each obtained value averaging wineth itself \n",
    "#and the number one\n",
    "\n",
    "def WhiteWash(colorMap):\n",
    "    \n",
    "#At the begginig, we got to flatten the coulor map\n",
    "    newColors = colorMap.flatten()\n",
    "    \n",
    "#Next, we make and array and add it to the colour map\n",
    "    one = np.ones_like(newColors)\n",
    "    newColors = newColors + one\n",
    "        \n",
    "    \n",
    "#make an array of 0.5's and multiply by the colour map\n",
    "#this will give us the average of the original colours and white\n",
    "    half=np.zeros_like(newColors)\n",
    "    half.fill(0.5)\n",
    "    newColors = newColors * half\n",
    "    \n",
    "    \n",
    "#At the end, we reshape the array back into a nice looking colour map.\n",
    "    newColors=newColors.reshape(newColors.size/3.0 , 3)\n",
    "    \n",
    "    return (newColors)\n",
    "\n",
    "\n",
    "\n",
    "#An example in order to see it this program works.\n",
    "\n",
    "h = np.array([[1, .1,.9], [.7,.3,1],[.8,.4,.6]], float)\n",
    "\n",
    "print(WhiteWash(h))\n"
   ]
  },
  {
   "cell_type": "code",
   "execution_count": null,
   "metadata": {
    "collapsed": true
   },
   "outputs": [],
   "source": []
  }
 ],
 "metadata": {
  "kernelspec": {
   "display_name": "Python 3",
   "language": "python",
   "name": "python3"
  },
  "language_info": {
   "codemirror_mode": {
    "name": "ipython",
    "version": 3
   },
   "file_extension": ".py",
   "mimetype": "text/x-python",
   "name": "python",
   "nbconvert_exporter": "python",
   "pygments_lexer": "ipython3",
   "version": "3.4.3"
  }
 },
 "nbformat": 4,
 "nbformat_minor": 0
}
