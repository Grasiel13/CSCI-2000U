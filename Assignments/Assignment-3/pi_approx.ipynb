{
 "cells": [
  {
   "cell_type": "code",
   "execution_count": 2,
   "metadata": {
    "collapsed": false
   },
   "outputs": [],
   "source": [
    "#Sergio Majluf\n",
    "#ID: 100558230\n",
    "\n",
    "#This defines the summation of rho in order to calculate the approximation of Pi\n",
    "def rho_n(n):\n",
    "    result = 0\n",
    "    for k in range(1, n+1):\n",
    "        result += ( ((-1)**(k+1)) / (2 * k - 1) )\n",
    "    return (result * 4)\n",
    "\n",
    "#This defines the summation of tau in order to calculate the approximation of Pi\n",
    "def tau_n(n):\n",
    "    result = 0\n",
    "    for k in range(1,n+1):\n",
    "        result += ( 1 / (k**2) )\n",
    "    return ( (6*result)**0.5)\n",
    "\n",
    "#This defines the summation of mu in order to calculate the approximation of Pi\n",
    "def mu_n(n):\n",
    "    result = 0\n",
    "    for k in range(1, n+1):\n",
    "        result += (1/(k**4))\n",
    "    return ((result*90)**0.25)\n",
    "                   "
   ]
  },
  {
   "cell_type": "code",
   "execution_count": 3,
   "metadata": {
    "collapsed": false
   },
   "outputs": [
    {
     "name": "stdout",
     "output_type": "stream",
     "text": [
      "When n =      10, rho_n  = 3.04183961893\n",
      "When n =      10, tau_n  = 3.04936163598\n",
      "When n =      10, mu_n   = 3.14138462247\n",
      "When n =     100, rho_n  = 3.13159290356\n",
      "When n =     100, tau_n  = 3.13207653181\n",
      "When n =     100, mu_n   = 3.14159241531\n",
      "When n =    1000, rho_n  = 3.14059265384\n",
      "When n =    1000, tau_n  = 3.14063805621\n",
      "When n =    1000, mu_n   = 3.14159265335\n",
      "When n =   10000, rho_n  = 3.14149265359\n",
      "When n =   10000, tau_n  = 3.14149716395\n",
      "When n =   10000, mu_n   = 3.14159265359\n",
      "When n =  100000, rho_n  = 3.14158265359\n",
      "When n =  100000, tau_n  = 3.14158310433\n",
      "When n =  100000, mu_n   = 3.14159265359\n",
      "When n = 1000000, rho_n  = 3.14159165359\n",
      "When n = 1000000, tau_n  = 3.14159169866\n",
      "When n = 1000000, mu_n   = 3.14159265359\n"
     ]
    }
   ],
   "source": [
    "#This step is needed in order to have the desired formating for the printed result.\n",
    "def format_print(func, n):\n",
    "    print(\"When n = {0:7d}, {1:6} = {2:.11f}\".format(n, func.__name__, func(n) ) )\n",
    "#The values of k are put into the for loop. \n",
    "for j in [10, 100, 1000, 10000, 100000, 1000000]:\n",
    "    for k in [rho_n, tau_n, mu_n]:\n",
    "          format_print(k, j)\n",
    "    "
   ]
  }
 ],
 "metadata": {
  "kernelspec": {
   "display_name": "Python 3",
   "language": "python",
   "name": "python3"
  },
  "language_info": {
   "codemirror_mode": {
    "name": "ipython",
    "version": 3
   },
   "file_extension": ".py",
   "mimetype": "text/x-python",
   "name": "python",
   "nbconvert_exporter": "python",
   "pygments_lexer": "ipython3",
   "version": "3.4.3"
  }
 },
 "nbformat": 4,
 "nbformat_minor": 0
}
