{
 "cells": [
  {
   "cell_type": "code",
   "execution_count": 2,
   "metadata": {
    "collapsed": false
   },
   "outputs": [],
   "source": [
    "%matplotlib inline\n",
    "import numpy as np\n",
    "import matplotlib.pyplot as plt"
   ]
  },
  {
   "cell_type": "code",
   "execution_count": null,
   "metadata": {
    "collapsed": true
   },
   "outputs": [],
   "source": [
    "# using numpy's recfromcsv() to read from csv file\n",
    "data = np.recfromcsv('ISSN_D_tot.csv', delimiter=',', dtype=dt)\n",
    "\n",
    "plt.plot(n, color=\"blue\", linewidth=2.5, linestyle=\"-\")\n",
    "plt.plot(o, color=\"b\", lacklinewidth=2.5, linestyle=\"-\")\n",
    "plt.plot(n+o, color=\"magenta\", linewidth=1.0, linestyle=\"--\")\n",
    "\n",
    "\n"
   ]
  }
 ],
 "metadata": {
  "kernelspec": {
   "display_name": "Python 3",
   "language": "python",
   "name": "python3"
  },
  "language_info": {
   "codemirror_mode": {
    "name": "ipython",
    "version": 3
   },
   "file_extension": ".py",
   "mimetype": "text/x-python",
   "name": "python",
   "nbconvert_exporter": "python",
   "pygments_lexer": "ipython3",
   "version": "3.4.3"
  }
 },
 "nbformat": 4,
 "nbformat_minor": 0
}
