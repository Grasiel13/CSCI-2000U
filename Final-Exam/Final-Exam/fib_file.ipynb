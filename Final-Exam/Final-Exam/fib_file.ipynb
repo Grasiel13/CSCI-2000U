{
 "cells": [
  {
   "cell_type": "code",
   "execution_count": null,
   "metadata": {
    "collapsed": true
   },
   "outputs": [],
   "source": [
    "import numpy as np\n",
    "import matplotlib.pyplot as plt\n",
    "\n",
    "while n>=1;\n",
    "    do F(n+1)=Fn + F(n-1);\n",
    "    n=6;\n",
    "r = [0, 1, 2, 3, 4, 5]\n",
    "\n",
    "for n in r:\n",
    "    print(\"When n = %7d, F_n = %.11f\" % (n, F_n))\n",
    "\n",
    "\n",
    "fib_file.ipnb>fib_6.txt"
   ]
  }
 ],
 "metadata": {
  "kernelspec": {
   "display_name": "Python 3",
   "language": "python",
   "name": "python3"
  },
  "language_info": {
   "codemirror_mode": {
    "name": "ipython",
    "version": 3
   },
   "file_extension": ".py",
   "mimetype": "text/x-python",
   "name": "python",
   "nbconvert_exporter": "python",
   "pygments_lexer": "ipython3",
   "version": "3.4.3"
  }
 },
 "nbformat": 4,
 "nbformat_minor": 0
}
